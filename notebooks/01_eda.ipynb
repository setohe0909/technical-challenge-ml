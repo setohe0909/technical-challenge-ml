{
  "cells": [
    {
      "cell_type": "code",
      "execution_count": null,
      "metadata": {},
      "outputs": [],
      "source": [
        "# EDA Inicial: Clasificación Biomédica\n",
        "\n",
        "import os\n",
        "import pandas as pd\n",
        "import seaborn as sns\n",
        "import matplotlib.pyplot as plt\n",
        "\n",
        "from pathlib import Path\n",
        "\n",
        "plt.style.use('seaborn-v0_8')\n",
        "\n",
        "DATA_PATH = os.environ.get('DATA_PATH', '../data/challenge_data.csv')\n",
        "\n",
        "if not Path(DATA_PATH).exists():\n",
        "    print(f\"No se encontró {DATA_PATH}. Usando ejemplo mínimo...\")\n",
        "    DATA_PATH = '../examples/sample_data.csv'\n",
        "\n",
        "print('Leyendo:', DATA_PATH)\n",
        "df = pd.read_csv(DATA_PATH)\n",
        "df['title'] = df['title'].fillna('')\n",
        "df['abstract'] = df['abstract'].fillna('')\n",
        "df['text_len'] = (df['title'].astype(str) + ' ' + df['abstract'].astype(str)).str.split().str.len()\n",
        "\n",
        "print(df.head())\n",
        "\n",
        "fig, axes = plt.subplots(1, 2, figsize=(12, 4))\n",
        "sns.histplot(df['title'].str.split().str.len(), bins=20, ax=axes[0])\n",
        "axes[0].set_title('Longitud de títulos (tokens)')\n",
        "sns.histplot(df['abstract'].str.split().str.len(), bins=20, ax=axes[1])\n",
        "axes[1].set_title('Longitud de abstracts (tokens)')\n",
        "plt.tight_layout()\n",
        "plt.show()\n"
      ]
    }
  ],
  "metadata": {
    "language_info": {
      "name": "python"
    }
  },
  "nbformat": 4,
  "nbformat_minor": 2
}
