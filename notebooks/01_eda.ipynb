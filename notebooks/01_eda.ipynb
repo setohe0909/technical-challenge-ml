{
  "cells": [
    {
      "cell_type": "code",
      "execution_count": null,
      "metadata": {},
      "outputs": [
        {
          "name": "stdout",
          "output_type": "stream",
          "text": [
            "Leyendo: /Users/sebastiantobon/Documents/repo/ml/technical-challenge-ml/examples/challenge_data.csv | SEP: ';'\n"
          ]
        },
        {
          "data": {
            "text/html": [
              "<div>\n",
              "<style scoped>\n",
              "    .dataframe tbody tr th:only-of-type {\n",
              "        vertical-align: middle;\n",
              "    }\n",
              "\n",
              "    .dataframe tbody tr th {\n",
              "        vertical-align: top;\n",
              "    }\n",
              "\n",
              "    .dataframe thead th {\n",
              "        text-align: right;\n",
              "    }\n",
              "</style>\n",
              "<table border=\"1\" class=\"dataframe\">\n",
              "  <thead>\n",
              "    <tr style=\"text-align: right;\">\n",
              "      <th></th>\n",
              "      <th>title</th>\n",
              "      <th>abstract</th>\n",
              "      <th>group</th>\n",
              "      <th>text_len</th>\n",
              "    </tr>\n",
              "  </thead>\n",
              "  <tbody>\n",
              "    <tr>\n",
              "      <th>0</th>\n",
              "      <td>Adrenoleukodystrophy: survey of 303 cases: bio...</td>\n",
              "      <td>Adrenoleukodystrophy ( ALD ) is a genetically ...</td>\n",
              "      <td>neurological|hepatorenal</td>\n",
              "      <td>221</td>\n",
              "    </tr>\n",
              "    <tr>\n",
              "      <th>1</th>\n",
              "      <td>endoscopy reveals ventricular tachycardia secrets</td>\n",
              "      <td>Research question: How does metformin affect c...</td>\n",
              "      <td>neurological</td>\n",
              "      <td>37</td>\n",
              "    </tr>\n",
              "    <tr>\n",
              "      <th>2</th>\n",
              "      <td>dementia and cholecystitis: organ interplay</td>\n",
              "      <td>Purpose: This randomized controlled study exam...</td>\n",
              "      <td>hepatorenal</td>\n",
              "      <td>40</td>\n",
              "    </tr>\n",
              "    <tr>\n",
              "      <th>3</th>\n",
              "      <td>The interpeduncular nucleus regulates nicotine...</td>\n",
              "      <td>Partial lesions were made with kainic acid in ...</td>\n",
              "      <td>neurological</td>\n",
              "      <td>112</td>\n",
              "    </tr>\n",
              "    <tr>\n",
              "      <th>4</th>\n",
              "      <td>guillain-barre syndrome pathways in leukemia</td>\n",
              "      <td>Hypothesis: statins improves stroke outcomes v...</td>\n",
              "      <td>neurological</td>\n",
              "      <td>32</td>\n",
              "    </tr>\n",
              "  </tbody>\n",
              "</table>\n",
              "</div>"
            ],
            "text/plain": [
              "                                               title  \\\n",
              "0  Adrenoleukodystrophy: survey of 303 cases: bio...   \n",
              "1  endoscopy reveals ventricular tachycardia secrets   \n",
              "2        dementia and cholecystitis: organ interplay   \n",
              "3  The interpeduncular nucleus regulates nicotine...   \n",
              "4       guillain-barre syndrome pathways in leukemia   \n",
              "\n",
              "                                            abstract  \\\n",
              "0  Adrenoleukodystrophy ( ALD ) is a genetically ...   \n",
              "1  Research question: How does metformin affect c...   \n",
              "2  Purpose: This randomized controlled study exam...   \n",
              "3  Partial lesions were made with kainic acid in ...   \n",
              "4  Hypothesis: statins improves stroke outcomes v...   \n",
              "\n",
              "                      group  text_len  \n",
              "0  neurological|hepatorenal       221  \n",
              "1              neurological        37  \n",
              "2               hepatorenal        40  \n",
              "3              neurological       112  \n",
              "4              neurological        32  "
            ]
          },
          "execution_count": 4,
          "metadata": {},
          "output_type": "execute_result"
        }
      ],
      "source": [
        "import os, sys\n",
        "from pathlib import Path\n",
        "import pandas as pd\n",
        "import seaborn as sns\n",
        "import matplotlib.pyplot as plt\n",
        "\n",
        "\n",
        "ROOT = Path.cwd().parent if Path.cwd().name == 'notebooks' else Path.cwd()\n",
        "if str(ROOT) not in sys.path:\n",
        "    sys.path.insert(0, str(ROOT))\n",
        "from src.data_loading import read_csv_robust\n",
        "\n",
        "DATA_PATH = os.environ.get('DATA_PATH', str(ROOT / 'examples' / 'challenge_data.csv'))\n",
        "SEP = os.environ.get('DATA_SEP', ';')\n",
        "\n",
        "print('Leyendo:', DATA_PATH, '| SEP:', repr(SEP))\n",
        "df = read_csv_robust(DATA_PATH, sep=SEP)\n",
        "\n",
        "df['title'] = df['title'].fillna('')\n",
        "df['abstract'] = df['abstract'].fillna('')\n",
        "df['text_len'] = (df['title'].astype(str) + ' ' + df['abstract'].astype(str)).str.split().str.len()\n",
        "\n",
        "df.head()\n"
      ]
    }
  ],
  "metadata": {
    "kernelspec": {
      "display_name": ".venv",
      "language": "python",
      "name": "python3"
    },
    "language_info": {
      "codemirror_mode": {
        "name": "ipython",
        "version": 3
      },
      "file_extension": ".py",
      "mimetype": "text/x-python",
      "name": "python",
      "nbconvert_exporter": "python",
      "pygments_lexer": "ipython3",
      "version": "3.9.6"
    }
  },
  "nbformat": 4,
  "nbformat_minor": 2
}
